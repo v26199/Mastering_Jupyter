{
 "cells": [
  {
   "cell_type": "markdown",
   "id": "08733a71",
   "metadata": {
    "ExecuteTime": {
     "end_time": "2024-02-25T19:45:14.482925Z",
     "start_time": "2024-02-25T19:45:14.475879Z"
    }
   },
   "source": [
    "# Keyboard Shortcuts\n",
    "\n",
    "## Command Mode (press `Esc` to enable)\n",
    "\n",
    "- `Enter`: enter edit mode\n",
    "- `Shift` + `Enter`: run the cell, select below\n",
    "- `Ctrl` + `Enter`: run the cell\n",
    "- `Alt` + `Enter`: run the cell, insert below\n",
    "- `Y`: change cell to code\n",
    "- `M`: change cell to markdown\n",
    "- `A`: insert cell above\n",
    "- `B`: insert cell below\n",
    "- `D`, `D` (press the key twice): delete selected cell\n",
    "- `Z`: undo cell deletion\n",
    "- `Shift` + `M`: merge selected cells, or current cell with cell below if only one cell is selected\n",
    "- `Ctrl` + `S`: save and checkpoint\n",
    "- `L`: toggle line numbers\n",
    "- `Shift` + `L`: toggle line numbers in all cells (when in command mode)\n",
    "- `Up` or `K`: select cell above\n",
    "- `Down` or `J`: select cell below"
   ]
  },
  {
   "cell_type": "markdown",
   "id": "07342a40",
   "metadata": {
    "ExecuteTime": {
     "end_time": "2024-02-25T19:45:14.482925Z",
     "start_time": "2024-02-25T19:45:14.475879Z"
    }
   },
   "source": [
    "## Edit Mode (press `Enter` to enable)\n",
    "\n",
    "- `Esc`: enter command mode\n",
    "- `Shift` + `Enter`: run the cell, select below\n",
    "- `Ctrl` + `Enter`: run the cell\n",
    "- `Alt` + `Enter`: run the cell, insert below\n",
    "- `Ctrl` + `Shift` + `-`: split the cell at cursor\n",
    "- `Ctrl` + `Z`: undo last text edit\n",
    "- `Ctrl` + `Shift` + `Z` or `Ctrl` + `Y`: redo last text edit\n",
    "- `Ctrl` + `Home`: go to cell start\n",
    "- `Ctrl` + `End`: go to cell end\n",
    "- `Ctrl` + `Left`: go one word left\n",
    "- `Ctrl` + `Right`: go one word right\n",
    "- `Ctrl` + `Backspace`: delete word before\n",
    "- `Ctrl` + `Delete`: delete word after\n",
    "- `Tab`: code completion or indent\n",
    "- `Shift` + `Tab`: tooltip\n",
    "- `Ctrl` + `]`: indent\n",
    "- `Ctrl` + `[`: dedent\n",
    "- `Ctrl` + `A`: select all\n",
    "- `Ctrl` + `Shift` + `K`: comment out the selected lines"
   ]
  },
  {
   "cell_type": "markdown",
   "id": "e52884ab",
   "metadata": {},
   "source": [
    "## Using jupyter as command line"
   ]
  },
  {
   "cell_type": "code",
   "execution_count": null,
   "id": "cf17e76a",
   "metadata": {},
   "outputs": [],
   "source": [
    "!cd"
   ]
  },
  {
   "cell_type": "code",
   "execution_count": null,
   "id": "898ded65",
   "metadata": {},
   "outputs": [],
   "source": [
    "!dir"
   ]
  },
  {
   "cell_type": "code",
   "execution_count": null,
   "id": "6f506e92",
   "metadata": {},
   "outputs": [],
   "source": [
    "!pip install numpy"
   ]
  },
  {
   "cell_type": "code",
   "execution_count": null,
   "id": "2f7cd023",
   "metadata": {},
   "outputs": [],
   "source": [
    "!git init"
   ]
  },
  {
   "cell_type": "markdown",
   "id": "8d7bf004",
   "metadata": {},
   "source": [
    "## Display all the rows and columns"
   ]
  },
  {
   "cell_type": "code",
   "execution_count": null,
   "id": "7a58cdaf",
   "metadata": {},
   "outputs": [],
   "source": [
    "import pandas as pd\n",
    "\n",
    "df = pd.read_csv('https://raw.githubusercontent.com/datasciencedojo/datasets/master/titanic.csv')\n",
    "\n",
    "df"
   ]
  },
  {
   "cell_type": "code",
   "execution_count": null,
   "id": "279e33b9",
   "metadata": {},
   "outputs": [],
   "source": [
    "pd.set_option('display.max_rows', None)"
   ]
  },
  {
   "cell_type": "code",
   "execution_count": null,
   "id": "5a833d50",
   "metadata": {},
   "outputs": [],
   "source": [
    "df"
   ]
  },
  {
   "cell_type": "code",
   "execution_count": null,
   "id": "1f9f2664",
   "metadata": {},
   "outputs": [],
   "source": [
    "pd.set_option('display.max_rows', 20)"
   ]
  },
  {
   "cell_type": "code",
   "execution_count": null,
   "id": "c022bf02",
   "metadata": {},
   "outputs": [],
   "source": [
    "df"
   ]
  },
  {
   "cell_type": "code",
   "execution_count": null,
   "id": "df5121e8",
   "metadata": {},
   "outputs": [],
   "source": [
    "df = pd.read_csv('https://raw.githubusercontent.com/prasertcbs/basic-dataset/master/MNIST.csv')\n",
    "df"
   ]
  },
  {
   "cell_type": "code",
   "execution_count": null,
   "id": "1c77cfe7",
   "metadata": {},
   "outputs": [],
   "source": [
    "pd.set_option('display.max_columns', None)"
   ]
  },
  {
   "cell_type": "code",
   "execution_count": null,
   "id": "9e5a730b",
   "metadata": {},
   "outputs": [],
   "source": [
    "df"
   ]
  },
  {
   "cell_type": "code",
   "execution_count": null,
   "id": "6f56c29d",
   "metadata": {},
   "outputs": [],
   "source": [
    "pd.set_option('display.max_columns', 10)"
   ]
  },
  {
   "cell_type": "code",
   "execution_count": null,
   "id": "c7ee8559",
   "metadata": {},
   "outputs": [],
   "source": [
    "df"
   ]
  },
  {
   "cell_type": "markdown",
   "id": "563eb658",
   "metadata": {},
   "source": [
    "## Supress Warning"
   ]
  },
  {
   "cell_type": "code",
   "execution_count": null,
   "id": "15653cc4",
   "metadata": {},
   "outputs": [],
   "source": [
    "import pandas as pd\n",
    "\n",
    "# Creating a DataFrame\n",
    "df = pd.DataFrame({'A': [1, 2, 3], 'B': [4, 5, 6]})\n",
    "\n",
    "# Trying to modify a slice of the DataFrame directly\n",
    "subset = df[df['A'] > 1]\n",
    "subset['B'] = subset['B'] + 1\n"
   ]
  },
  {
   "cell_type": "code",
   "execution_count": null,
   "id": "47fc3b0a",
   "metadata": {},
   "outputs": [],
   "source": [
    "import warnings\n",
    "warnings.filterwarnings('ignore')"
   ]
  },
  {
   "cell_type": "markdown",
   "id": "29274f9d",
   "metadata": {},
   "source": [
    "## Print all variable"
   ]
  },
  {
   "cell_type": "code",
   "execution_count": null,
   "id": "fb900288",
   "metadata": {},
   "outputs": [],
   "source": [
    "df = pd.read_csv('https://raw.githubusercontent.com/datasciencedojo/datasets/master/titanic.csv')"
   ]
  },
  {
   "cell_type": "code",
   "execution_count": null,
   "id": "2fd57f79",
   "metadata": {},
   "outputs": [],
   "source": [
    "df.describe()\n",
    "df.info()"
   ]
  },
  {
   "cell_type": "code",
   "execution_count": null,
   "id": "95df40d4",
   "metadata": {},
   "outputs": [],
   "source": [
    "from IPython.core.interactiveshell import InteractiveShell\n",
    "InteractiveShell.ast_node_interactivity = \"all\""
   ]
  },
  {
   "cell_type": "code",
   "execution_count": null,
   "id": "a22127a2",
   "metadata": {},
   "outputs": [],
   "source": [
    "df.describe()\n",
    "df.info()\n",
    "a=2\n",
    "a"
   ]
  },
  {
   "cell_type": "markdown",
   "id": "fcee60f8",
   "metadata": {},
   "source": [
    "## Print output of any other cell"
   ]
  },
  {
   "cell_type": "code",
   "execution_count": null,
   "id": "1a587da7",
   "metadata": {},
   "outputs": [],
   "source": [
    "Out[8]"
   ]
  },
  {
   "cell_type": "markdown",
   "id": "e414c610",
   "metadata": {},
   "source": [
    "## Close long output"
   ]
  },
  {
   "cell_type": "code",
   "execution_count": null,
   "id": "da2f42ec",
   "metadata": {},
   "outputs": [],
   "source": [
    "Out"
   ]
  },
  {
   "cell_type": "markdown",
   "id": "3502624a",
   "metadata": {},
   "source": [
    "## Remove extra output"
   ]
  },
  {
   "cell_type": "code",
   "execution_count": null,
   "id": "63e3c763",
   "metadata": {},
   "outputs": [],
   "source": [
    "import matplotlib.pyplot as plt\n",
    "\n",
    "plt.plot([1, 2, 3], [4, 5, 6])"
   ]
  },
  {
   "cell_type": "code",
   "execution_count": null,
   "id": "1ef3459f",
   "metadata": {},
   "outputs": [],
   "source": [
    "plt.plot([1, 2, 3], [4, 5, 6]);"
   ]
  },
  {
   "cell_type": "markdown",
   "id": "107f2cb1",
   "metadata": {},
   "source": [
    "# Magic Commands\n",
    "\n",
    "**%** is used for **line magics**. Line magic commands apply only to the rest of the line on which they are used.\n",
    "\n",
    "**%%** is used for **cell magics**. Cell magic commands apply to the entire cell in which they are the first line. This means that everything below the %% command (up to the end of the cell) is considered part of the command. Cell magics allow you to write more complex or multi-line commands, affecting or transforming the entire cell's content."
   ]
  },
  {
   "cell_type": "markdown",
   "id": "076b04ed",
   "metadata": {},
   "source": [
    "## %time"
   ]
  },
  {
   "cell_type": "code",
   "execution_count": null,
   "id": "7c3264e9",
   "metadata": {},
   "outputs": [],
   "source": [
    "# Example of using %time for a single line of code\n",
    "%time sum(range(1000000))"
   ]
  },
  {
   "cell_type": "code",
   "execution_count": null,
   "id": "2ab09877",
   "metadata": {},
   "outputs": [],
   "source": [
    "%%time\n",
    "# Example of using %%time for an entire cell\n",
    "total = 0\n",
    "for i in range(1000000):\n",
    "    total += i\n",
    "print(total)"
   ]
  },
  {
   "cell_type": "code",
   "execution_count": null,
   "id": "3be9ad34",
   "metadata": {},
   "outputs": [],
   "source": [
    "%timeit sum(range(1000000))"
   ]
  },
  {
   "cell_type": "markdown",
   "id": "c126913a",
   "metadata": {},
   "source": [
    "## %run"
   ]
  },
  {
   "cell_type": "code",
   "execution_count": null,
   "id": "16bad994",
   "metadata": {},
   "outputs": [],
   "source": [
    "%run sum.py"
   ]
  },
  {
   "cell_type": "markdown",
   "id": "360e19da",
   "metadata": {},
   "source": [
    "## %% writefile"
   ]
  },
  {
   "cell_type": "code",
   "execution_count": null,
   "id": "e9488783",
   "metadata": {},
   "outputs": [],
   "source": [
    "%%writefile example.txt\n",
    "\n",
    "Hello, this is the first line of the file.\n",
    "And this is the second line."
   ]
  },
  {
   "cell_type": "code",
   "execution_count": null,
   "id": "ba31f12a",
   "metadata": {},
   "outputs": [],
   "source": [
    "%%writefile hello_world.py\n",
    "\n",
    "def hello_world():\n",
    "    print(\"Hello, world!\")\n",
    "\n",
    "if __name__ == \"__main__\":\n",
    "    hello_world()\n"
   ]
  },
  {
   "cell_type": "code",
   "execution_count": null,
   "id": "6dc7ea7c",
   "metadata": {},
   "outputs": [],
   "source": [
    "%run hello_world.py"
   ]
  },
  {
   "cell_type": "markdown",
   "id": "17161834",
   "metadata": {},
   "source": [
    "## %%html"
   ]
  },
  {
   "cell_type": "code",
   "execution_count": null,
   "id": "cd0c3d60",
   "metadata": {},
   "outputs": [],
   "source": [
    "%%html\n",
    "<div style=\"color: red; font-size: 20px;\">Hello, world!</div>"
   ]
  },
  {
   "cell_type": "code",
   "execution_count": null,
   "id": "414a7fbc",
   "metadata": {},
   "outputs": [],
   "source": [
    "%%html\n",
    "<img src=\"https://static.remove.bg/sample-gallery/graphics/bird-thumbnail.jpg\" alt=\"Sample Image\" width=\"300\">"
   ]
  },
  {
   "cell_type": "code",
   "execution_count": null,
   "id": "298a761c",
   "metadata": {},
   "outputs": [],
   "source": [
    "%%html\n",
    "<table border=\"1\">\n",
    "  <tr>\n",
    "    <th>Firstname</th>\n",
    "    <th>Lastname</th>\n",
    "    <th>Age</th>\n",
    "  </tr>\n",
    "  <tr>\n",
    "    <td>John</td>\n",
    "    <td>Doe</td>\n",
    "    <td>50</td>\n",
    "  </tr>\n",
    "  <tr>\n",
    "    <td>Jane</td>\n",
    "    <td>Doe</td>\n",
    "    <td>45</td>\n",
    "  </tr>\n",
    "</table>\n"
   ]
  },
  {
   "cell_type": "code",
   "execution_count": null,
   "id": "08f9fc4f",
   "metadata": {},
   "outputs": [],
   "source": [
    "%%html\n",
    "<button onclick=\"alert('Hello, world!')\">Click Me!</button>"
   ]
  },
  {
   "cell_type": "markdown",
   "id": "8f1a5a2e",
   "metadata": {},
   "source": [
    "## %%javascript"
   ]
  },
  {
   "cell_type": "code",
   "execution_count": null,
   "id": "bfd18832",
   "metadata": {},
   "outputs": [],
   "source": [
    "%%javascript\n",
    "alert('Hello, Jupyter!');"
   ]
  },
  {
   "cell_type": "code",
   "execution_count": null,
   "id": "8eb720ba",
   "metadata": {},
   "outputs": [],
   "source": [
    "%%html\n",
    "<select id=\"dataSelection\">\n",
    "    <option value=\"data1\">Dataset 1</option>\n",
    "    <option value=\"data2\">Dataset 2</option>\n",
    "    <option value=\"data3\">Dataset 3</option>\n",
    "</select>\n",
    "<div id=\"displayArea\">Selected Dataset Information will appear here.</div>\n"
   ]
  },
  {
   "cell_type": "code",
   "execution_count": null,
   "id": "ad50aea8",
   "metadata": {},
   "outputs": [],
   "source": [
    "%%javascript\n",
    "\n",
    "// Function to update display based on selection\n",
    "function updateDisplay() {\n",
    "    var selection = document.getElementById('dataSelection').value;\n",
    "    var displayText = 'You selected ' + selection + ', displaying results...';\n",
    "    // This could be a place to dynamically update a chart or data visualization\n",
    "    document.getElementById('displayArea').innerText = displayText;\n",
    "}\n",
    "\n",
    "// Add event listener to dropdown\n",
    "document.getElementById('dataSelection').addEventListener('change', updateDisplay);\n",
    "\n",
    "// Initialize display\n",
    "updateDisplay();\n"
   ]
  },
  {
   "cell_type": "markdown",
   "id": "36ed9179",
   "metadata": {},
   "source": [
    "## %%latex"
   ]
  },
  {
   "cell_type": "code",
   "execution_count": null,
   "id": "51cafcfe",
   "metadata": {
    "ExecuteTime": {
     "end_time": "2024-02-25T19:36:02.092487Z",
     "start_time": "2024-02-25T19:36:02.084615Z"
    }
   },
   "outputs": [],
   "source": [
    "%%latex\n",
    "\\begin{align}\n",
    "\\nabla \\times \\vec{\\mathbf{B}} -\\, \\frac1{c} \\, \\frac{\\partial\\vec{\\mathbf{E}}}{\\partial t} & = \\frac{4\\pi}{c}\\vec{\\mathbf{j}} \\\\\n",
    "\\nabla \\cdot \\vec{\\mathbf{E}} & = 4 \\pi \\rho \\\\\n",
    "\\nabla \\times \\vec{\\mathbf{E}}\\, +\\, \\frac1{c} \\, \\frac{\\partial\\vec{\\mathbf{B}}}{\\partial t} & = \\vec{\\mathbf{0}} \\\\\n",
    "\\nabla \\cdot \\vec{\\mathbf{B}} & = 0\n",
    "\\end{align}\n"
   ]
  },
  {
   "cell_type": "markdown",
   "id": "d9011fba",
   "metadata": {},
   "source": [
    "# Jupyter Widgets"
   ]
  },
  {
   "cell_type": "code",
   "execution_count": null,
   "id": "defae234",
   "metadata": {
    "ExecuteTime": {
     "end_time": "2024-02-25T19:28:20.142475Z",
     "start_time": "2024-02-25T19:28:20.116304Z"
    }
   },
   "outputs": [],
   "source": [
    "import ipywidgets as widgets\n",
    "from IPython.display import display\n",
    "\n",
    "slider = widgets.IntSlider(\n",
    "    value=7,\n",
    "    min=0,\n",
    "    max=10,\n",
    "    step=1,\n",
    "    description='Test Slider:',\n",
    "    disabled=False,\n",
    "    continuous_update=False,\n",
    "    orientation='horizontal',\n",
    "    readout=True,\n",
    "    readout_format='d'\n",
    ")\n",
    "display(slider)\n"
   ]
  },
  {
   "cell_type": "code",
   "execution_count": null,
   "id": "23179100",
   "metadata": {
    "ExecuteTime": {
     "end_time": "2024-02-25T19:37:06.215974Z",
     "start_time": "2024-02-25T19:37:06.042608Z"
    },
    "hide_input": false
   },
   "outputs": [],
   "source": [
    "import numpy as np\n",
    "import matplotlib.pyplot as plt\n",
    "from ipywidgets import interactive\n",
    "\n",
    "def plot_sine_wave(frequency=1.0):\n",
    "    # Generate x values\n",
    "    x = np.linspace(0, 2 * np.pi, 100)\n",
    "    # Calculate y values based on the current frequency\n",
    "    y = np.sin(x * frequency)\n",
    "    \n",
    "    # Plotting the sine wave\n",
    "    plt.figure(figsize=(10,4))\n",
    "    plt.plot(x, y)\n",
    "    plt.ylim(-1.1, 1.1)\n",
    "    plt.title('Sine Wave')\n",
    "    plt.show()\n",
    "\n",
    "# Create an interactive widget for the sine wave frequency\n",
    "interactive_plot = interactive(plot_sine_wave, frequency=(1, 10, 0.1))\n",
    "display(interactive_plot)\n"
   ]
  },
  {
   "cell_type": "code",
   "execution_count": null,
   "id": "2f7b5ebe",
   "metadata": {
    "ExecuteTime": {
     "end_time": "2024-02-25T19:30:26.036932Z",
     "start_time": "2024-02-25T19:30:25.913133Z"
    },
    "code_folding": [
     7,
     14
    ],
    "hide_input": true
   },
   "outputs": [],
   "source": [
    "import pandas as pd\n",
    "import numpy as np\n",
    "import plotly.express as px\n",
    "from ipywidgets import interactive, IntSlider, FloatSlider\n",
    "\n",
    "# Generate a random dataset\n",
    "np.random.seed(42)\n",
    "df = pd.DataFrame({\n",
    "    'x': np.random.rand(100),\n",
    "    'y': np.random.rand(100),\n",
    "    'data_value': np.random.rand(100) * 100  # A column to filter by\n",
    "})\n",
    "\n",
    "# Function to update the plot\n",
    "def update_plot(marker_size, filter_value):\n",
    "    filtered_df = df[df['data_value'] < filter_value]\n",
    "    \n",
    "    fig = px.scatter(\n",
    "        filtered_df, x='x', y='y', size=np.full(len(filtered_df), marker_size),\n",
    "        size_max=marker_size, title='Interactive Scatter Plot'\n",
    "    )\n",
    "    fig.update_traces(marker=dict(opacity=0.8))\n",
    "    fig.update_layout(transition_duration=500)\n",
    "    fig.show()\n",
    "\n",
    "# Create widgets\n",
    "marker_size_slider = IntSlider(min=5, max=30, value=10, description='Marker Size:')\n",
    "filter_slider = FloatSlider(min=df['data_value'].min(), max=df['data_value'].max(), value=df['data_value'].max(), description='Filter Value:')\n",
    "\n",
    "# Display interactive plot\n",
    "interactive_plot = interactive(update_plot, marker_size=marker_size_slider, filter_value=filter_slider)\n",
    "display(interactive_plot)\n"
   ]
  },
  {
   "cell_type": "markdown",
   "id": "bd45f1ab",
   "metadata": {},
   "source": [
    "# Jupyter Extensions"
   ]
  },
  {
   "cell_type": "code",
   "execution_count": null,
   "id": "9859c76a",
   "metadata": {},
   "outputs": [],
   "source": [
    "!pip install jupyter_contrib_nbextensions\n",
    "!jupyter contrib nbextension install --user\n",
    "!jupyter nbextensions_configurator enable --user"
   ]
  },
  {
   "cell_type": "code",
   "execution_count": null,
   "id": "074d3645",
   "metadata": {},
   "outputs": [],
   "source": [
    "# Table of content\n",
    "!pip install jupyter_nbextensions_configurator"
   ]
  },
  {
   "cell_type": "code",
   "execution_count": null,
   "id": "fc9d4f9e",
   "metadata": {},
   "outputs": [],
   "source": [
    "# Code Folding"
   ]
  },
  {
   "cell_type": "code",
   "execution_count": null,
   "id": "95d0ce29",
   "metadata": {},
   "outputs": [],
   "source": [
    "# Hinterland\n",
    "import pandas as pd\n",
    "import matplotlib.pyplot as plt"
   ]
  },
  {
   "cell_type": "code",
   "execution_count": null,
   "id": "abe6de08",
   "metadata": {},
   "outputs": [],
   "source": [
    "# Execute time"
   ]
  },
  {
   "cell_type": "code",
   "execution_count": null,
   "id": "275ed5a2",
   "metadata": {},
   "outputs": [],
   "source": [
    "# Hide Input"
   ]
  },
  {
   "cell_type": "code",
   "execution_count": null,
   "id": "1dcacd01",
   "metadata": {},
   "outputs": [],
   "source": [
    "# Variable Inspector"
   ]
  },
  {
   "cell_type": "markdown",
   "id": "00669339",
   "metadata": {},
   "source": [
    "# ChatGPT Extension"
   ]
  },
  {
   "cell_type": "code",
   "execution_count": null,
   "id": "2a0045b5",
   "metadata": {},
   "outputs": [],
   "source": [
    "# Explain\n",
    "\n",
    "def bubble_sort(arr):\n",
    "    n = len(arr)\n",
    "    # Traverse through all array elements\n",
    "    for i in range(n):\n",
    "        # Last i elements are already in place\n",
    "        for j in range(0, n-i-1):\n",
    "            # Traverse the array from 0 to n-i-1. Swap if the element found is greater\n",
    "            # than the next element\n",
    "            if arr[j] > arr[j+1]:\n",
    "                arr[j], arr[j+1] = arr[j+1], arr[j]\n",
    "    return arr\n",
    "\n",
    "# Example usage\n",
    "arr = [64, 34, 25, 12, 22, 11, 90]\n",
    "sorted_arr = bubble_sort(arr)\n",
    "print(\"Sorted array is:\", sorted_arr)\n"
   ]
  },
  {
   "cell_type": "code",
   "execution_count": null,
   "id": "b35144db",
   "metadata": {},
   "outputs": [],
   "source": [
    "# debug\n",
    "\n",
    "def buggy_bubble_sort(arr):\n",
    "    n = len(arr)\n",
    "    for i in range(n):\n",
    "        # Intentional bug: Should be 'range(n-i-1)'\n",
    "        for j in range(n):\n",
    "            # Intentional bug: Missing condition to avoid index out of range error\n",
    "            if arr[j] > arr[j+1]:\n",
    "                # Intentional bug: Incorrect swapping logic\n",
    "                temp = arr[j]\n",
    "                arr[j] = arr[j+1]\n",
    "                arr[j+1] = temp\n",
    "    return arr\n",
    "\n",
    "# Example usage\n",
    "arr = [64, 34, 25, 12, 22, 11, 90]\n",
    "sorted_arr = buggy_bubble_sort(arr)\n",
    "print(\"Sorted array is:\", sorted_arr)"
   ]
  },
  {
   "cell_type": "code",
   "execution_count": null,
   "id": "07b94260",
   "metadata": {},
   "outputs": [],
   "source": [
    "# complete\n",
    "\n",
    "def bubble_sort(arr):\n",
    "    # Sorting logic to be implemented\n",
    "    pass\n"
   ]
  },
  {
   "cell_type": "code",
   "execution_count": null,
   "id": "5cd1a8a4",
   "metadata": {},
   "outputs": [],
   "source": [
    "# question\n",
    "\n",
    "import pandas as pd\n",
    "import numpy as np\n",
    "import plotly.express as px\n",
    "from ipywidgets import interactive, IntSlider, FloatSlider\n",
    "\n",
    "# Generate a random dataset\n",
    "np.random.seed(42)\n",
    "df = pd.DataFrame({\n",
    "    'x': np.random.rand(100),\n",
    "    'y': np.random.rand(100),\n",
    "    'data_value': np.random.rand(100) * 100  # A column to filter by\n",
    "})\n",
    "\n",
    "# Function to update the plot\n",
    "def update_plot(marker_size, filter_value):\n",
    "    filtered_df = df[df['data_value'] < filter_value]\n",
    "    \n",
    "    fig = px.scatter(\n",
    "        filtered_df, x='x', y='y', size=np.full(len(filtered_df), marker_size),\n",
    "        size_max=marker_size, title='Interactive Scatter Plot'\n",
    "    )\n",
    "    fig.update_traces(marker=dict(opacity=0.8))\n",
    "    fig.update_layout(transition_duration=500)\n",
    "    fig.show()\n",
    "\n",
    "# Create widgets\n",
    "marker_size_slider = IntSlider(min=5, max=30, value=10, description='Marker Size:')\n",
    "filter_slider = FloatSlider(min=df['data_value'].min(), max=df['data_value'].max(), value=df['data_value'].max(), description='Filter Value:')\n",
    "\n",
    "# Display interactive plot\n",
    "interactive_plot = interactive(update_plot, marker_size=marker_size_slider, filter_value=filter_slider)\n",
    "display(interactive_plot)\n",
    "\n"
   ]
  }
 ],
 "metadata": {
  "kernelspec": {
   "display_name": "Python 3 (ipykernel)",
   "language": "python",
   "name": "python3"
  },
  "language_info": {
   "codemirror_mode": {
    "name": "ipython",
    "version": 3
   },
   "file_extension": ".py",
   "mimetype": "text/x-python",
   "name": "python",
   "nbconvert_exporter": "python",
   "pygments_lexer": "ipython3",
   "version": "3.11.4"
  },
  "toc": {
   "base_numbering": 1,
   "nav_menu": {},
   "number_sections": true,
   "sideBar": true,
   "skip_h1_title": false,
   "title_cell": "Table of Contents",
   "title_sidebar": "Contents",
   "toc_cell": false,
   "toc_position": {},
   "toc_section_display": true,
   "toc_window_display": false
  },
  "varInspector": {
   "cols": {
    "lenName": 16,
    "lenType": 16,
    "lenVar": 40
   },
   "kernels_config": {
    "python": {
     "delete_cmd_postfix": "",
     "delete_cmd_prefix": "del ",
     "library": "var_list.py",
     "varRefreshCmd": "print(var_dic_list())"
    },
    "r": {
     "delete_cmd_postfix": ") ",
     "delete_cmd_prefix": "rm(",
     "library": "var_list.r",
     "varRefreshCmd": "cat(var_dic_list()) "
    }
   },
   "types_to_exclude": [
    "module",
    "function",
    "builtin_function_or_method",
    "instance",
    "_Feature"
   ],
   "window_display": false
  }
 },
 "nbformat": 4,
 "nbformat_minor": 5
}
